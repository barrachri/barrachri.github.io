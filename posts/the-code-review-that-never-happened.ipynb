{
 "cells": [
  {
   "cell_type": "markdown",
   "metadata": {},
   "source": [
    "I am currently working as consultant for a mid-sized company in Europe, where my goal is to try to keep their old Django application alive (running Django 1.5.5).\n",
    "\n",
    "A few weeks ago, it became clear to me that the server running the application was down.\n",
    "\n",
    "Something wasn't working properly, and yet the logs were completely silent.\n",
    "\n",
    "So I said… well, there must be an `except: pass` somewhere.\n",
    "\n",
    "So I started  looking for it (so much for my Friday night…)\n",
    "\n",
    "![screaming code](/images/the-code-review-that-never-happened/code.png)\n"
   ]
  },
  {
   "cell_type": "markdown",
   "metadata": {},
   "source": [
    "This code was running somewhere in production. So I just removed the comments and the code inside each block - everything else I left just as it was."
   ]
  },
  {
   "cell_type": "markdown",
   "metadata": {},
   "source": [
    "### So, let's imagine for a second that we went back 4 years (November 2013), and that my colleague, named `Charlie` (random name), had just made a PR to add this code to our codebase."
   ]
  },
  {
   "cell_type": "markdown",
   "metadata": {},
   "source": [
    "### Let's begin."
   ]
  },
  {
   "cell_type": "markdown",
   "metadata": {},
   "source": [
    "Hey Charlie, thanks for the PR.\n",
    "\n",
    "The code logic looks ok, but **there are a few things that I would definitely change**."
   ]
  },
  {
   "cell_type": "markdown",
   "metadata": {},
   "source": [
    "# 1. Did you forget the docstring?"
   ]
  },
  {
   "cell_type": "markdown",
   "metadata": {},
   "source": [
    "Charlie have you read **[this](https://www.python.org/dev/peps/pep-0257/)**?\n",
    "\n",
    "I think it's always  **good practice to add docstrings**: to at least try to explain, even just briefly, how your function behaves, and maybe also add something  about its parameters.\n",
    "It could be invaluable for your  colleagues or, indeed, anyone who is going to be working on the code in the future (.......).\n",
    "\n",
    "The name of the function really does not tell us that much about the ‘story’ of your code.\n",
    "A general explanation about how your are `dehydrating` your data would be very much appreciated!"
   ]
  },
  {
   "cell_type": "markdown",
   "metadata": {},
   "source": [
    "# 2. Don't `except: pass`"
   ]
  },
  {
   "cell_type": "markdown",
   "metadata": {},
   "source": [
    "Charlie, I see from the PR that you worked on this very late in the evening..... perhaps this  explains it.\n",
    "\n",
    "Nonetheless, what were you trying to do with **except: pass**?"
   ]
  },
  {
   "cell_type": "markdown",
   "metadata": {},
   "source": [
    "**You are silently catching all the errors, without even logging them.**"
   ]
  },
  {
   "cell_type": "code",
   "execution_count": 2,
   "metadata": {},
   "outputs": [],
   "source": [
    "try:\n",
    "    1/0\n",
    "except:\n",
    "    pass"
   ]
  },
  {
   "cell_type": "markdown",
   "metadata": {},
   "source": [
    "Do you see?\n",
    "\n",
    "No error is raised, even if we are dividing by zero."
   ]
  },
  {
   "cell_type": "code",
   "execution_count": 4,
   "metadata": {},
   "outputs": [],
   "source": [
    "try:\n",
    "    1/0\n",
    "    CONSTANT = 0\n",
    "    CONSTANT[\"DON-T-EXIST\"] = 0\n",
    "except:\n",
    "    pass"
   ]
  },
  {
   "cell_type": "markdown",
   "metadata": {},
   "source": [
    "Same goes here - you are silently catching every kind of exception."
   ]
  },
  {
   "cell_type": "markdown",
   "metadata": {},
   "source": [
    "So please:\n",
    "* remove **pass**\n",
    "* log this exception somehow, the [logging module](https://docs.python.org/3/library/logging.html) is a good place to start.\n",
    "* **be more specific about the exception you want to catch (check the example)**\n",
    "* don't **except: pass**"
   ]
  },
  {
   "cell_type": "code",
   "execution_count": 6,
   "metadata": {},
   "outputs": [
    {
     "name": "stderr",
     "output_type": "stream",
     "text": [
      "Division by Zero\n"
     ]
    }
   ],
   "source": [
    "# example for Charlie\n",
    "\n",
    "import logging\n",
    "\n",
    "log = logging.getLogger(__name__)\n",
    "\n",
    "try:\n",
    "    1/0\n",
    "except ZeroDivisionError:\n",
    "    log.error(\"Division by Zero\")"
   ]
  },
  {
   "cell_type": "markdown",
   "metadata": {},
   "source": [
    "In any case - great job. Keep up the hard work."
   ]
  },
  {
   "cell_type": "markdown",
   "metadata": {
    "collapsed": true
   },
   "source": [
    "And, just in case you have forgotten: - please **don't except: pass**.\n",
    "\n",
    "*Sincerely, your colleague and a future reader of your code.*"
   ]
  },
  {
   "cell_type": "markdown",
   "metadata": {},
   "source": [
    "# Takeaways for the **current** readers"
   ]
  },
  {
   "cell_type": "markdown",
   "metadata": {},
   "source": [
    "### 1. Code Reviews\n",
    "\n",
    "Do code reviews: - they are extremely useful, not only to pick up on bad practice."
   ]
  },
  {
   "cell_type": "markdown",
   "metadata": {},
   "source": [
    "### 2. Docstrings\n",
    "\n",
    "Use docstrings: - they will be extremely useful in the future,"
   ]
  },
  {
   "cell_type": "markdown",
   "metadata": {},
   "source": [
    "### 3. Catch errors\n",
    "\n",
    "Try/Except is really powerful, but use it properly: - to catch specific errors and log them."
   ]
  },
  {
   "cell_type": "markdown",
   "metadata": {},
   "source": [
    "### 4. Feedback\n",
    "\n",
    "**Proper** feedback is fundamental if you want to grow, both in technical skills and in what are generally called **soft skills**.\n",
    "\n",
    "I say **proper** feedback, because feedback given in the wrong way is probably more harmful than not giving a feedback at all.\n",
    "\n",
    "If you want to know more about how to give proper feedback, here’s a good starting point: http://www.ustream.tv/recorded/102892183."
   ]
  }
 ],
 "metadata": {
  "kernelspec": {
   "display_name": "Python 3",
   "language": "python",
   "name": "python3"
  },
  "language_info": {
   "codemirror_mode": {
    "name": "ipython",
    "version": 3
   },
   "file_extension": ".py",
   "mimetype": "text/x-python",
   "name": "python",
   "nbconvert_exporter": "python",
   "pygments_lexer": "ipython3",
   "version": "3.6.3"
  },
  "nikola": {
   "category": "",
   "date": "2017-11-03 08:00:00 UTC",
   "description": "",
   "img_name": "the-code-review-that-never-happened/code-review.png",
   "img_name_small": "",
   "link": "",
   "slug": "the-code-review-that-never-happened",
   "sub_title": "",
   "tags": "",
   "title": "The code review that never happened",
   "type": "text"
  }
 },
 "nbformat": 4,
 "nbformat_minor": 2
}
