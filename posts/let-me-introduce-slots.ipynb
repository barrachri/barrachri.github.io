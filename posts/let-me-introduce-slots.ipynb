{
 "cells": [
  {
   "cell_type": "markdown",
   "metadata": {},
   "source": [
    "Hey there!\n",
    "\n",
    "Today I'd like to talk about **\\__slots__**.\n",
    "\n",
    "The inspiration for this article comes from a blog post about Python data structures published by [Dan Bader](https://dbader.org/blog/records-structs-and-data-transfer-objects-in-python) and the small iteration we then had on this [gist](https://gist.github.com/barrachri/c7922df84eb171eaa45e466b1b790bce) to check their performances.\n",
    "\n",
    "For all the examples you are going to see I am using __Python 3.6.2__.\n",
    "\n",
    "So what are slots? **\\__slots__** are a different way to define the attributes storage for classes in Python.\n",
    "\n",
    "If this is not clear bear with me."
   ]
  },
  {
   "cell_type": "code",
   "execution_count": 1,
   "metadata": {
    "scrolled": false
   },
   "outputs": [
    {
     "name": "stdout",
     "output_type": "stream",
     "text": [
      "3.6.2 |Continuum Analytics, Inc.| (default, Jul 20 2017, 13:14:59) \n",
      "[GCC 4.2.1 Compatible Apple LLVM 6.0 (clang-600.0.57)]\n"
     ]
    }
   ],
   "source": [
    "# we use getsizeof to get the size of our objects\n",
    "from sys import getsizeof\n",
    "from sys import version as python_version\n",
    "print(python_version)"
   ]
  },
  {
   "cell_type": "code",
   "execution_count": 2,
   "metadata": {
    "collapsed": true,
    "scrolled": false
   },
   "outputs": [],
   "source": [
    "class PythonClass():\n",
    "    \"\"\"This is a simple Python class\"\"\"\n",
    "    \n",
    "    def __init__(self, message):\n",
    "        \"\"\"Init method, nothing special here\"\"\"\n",
    "        self.message = message\n",
    "        self.capital_message = self.make_it_bigger()\n",
    "    \n",
    "    def make_it_bigger(self):\n",
    "        \"\"\"Do something with your attributes\"\"\"\n",
    "        return self.message.upper()\n",
    "    \n",
    "    def scream_message(self):\n",
    "        \"\"\"Print the capital_message attribute of the instance\"\"\"\n",
    "        print(self.capital_message) \n",
    "        \n",
    "my_instance = PythonClass(\"my message\")"
   ]
  },
  {
   "cell_type": "markdown",
   "metadata": {},
   "source": [
    "So we have a class, `PythonClass`, and 1 instance of this class, `my_instance`.\n",
    "\n",
    "Where are `message` and `capital_message` stored?\n",
    "\n",
    "__Python__ uses a special attribute call __dict__ to store the instance's attributes:"
   ]
  },
  {
   "cell_type": "code",
   "execution_count": 3,
   "metadata": {
    "scrolled": false
   },
   "outputs": [
    {
     "data": {
      "text/plain": [
       "['__dict__']"
      ]
     },
     "execution_count": 3,
     "metadata": {},
     "output_type": "execute_result"
    }
   ],
   "source": [
    "[element for element in dir(my_instance) if element == '__dict__']"
   ]
  },
  {
   "cell_type": "code",
   "execution_count": 4,
   "metadata": {
    "scrolled": false
   },
   "outputs": [
    {
     "data": {
      "text/plain": [
       "{'capital_message': 'MY MESSAGE', 'message': 'my message'}"
      ]
     },
     "execution_count": 4,
     "metadata": {},
     "output_type": "execute_result"
    }
   ],
   "source": [
    "my_instance.__dict__"
   ]
  },
  {
   "cell_type": "code",
   "execution_count": 5,
   "metadata": {
    "collapsed": true,
    "scrolled": false
   },
   "outputs": [],
   "source": [
    "my_instance.new_message = \"This is a new message\""
   ]
  },
  {
   "cell_type": "code",
   "execution_count": 6,
   "metadata": {
    "scrolled": false
   },
   "outputs": [
    {
     "data": {
      "text/plain": [
       "{'capital_message': 'MY MESSAGE',\n",
       " 'message': 'my message',\n",
       " 'new_message': 'This is a new message'}"
      ]
     },
     "execution_count": 6,
     "metadata": {},
     "output_type": "execute_result"
    }
   ],
   "source": [
    "my_instance.__dict__"
   ]
  },
  {
   "cell_type": "code",
   "execution_count": 7,
   "metadata": {
    "collapsed": true,
    "scrolled": false
   },
   "outputs": [],
   "source": [
    "my_instance.__dict__['another_new_message'] = \"Yet a new message\""
   ]
  },
  {
   "cell_type": "code",
   "execution_count": 8,
   "metadata": {
    "scrolled": false
   },
   "outputs": [
    {
     "data": {
      "text/plain": [
       "{'another_new_message': 'Yet a new message',\n",
       " 'capital_message': 'MY MESSAGE',\n",
       " 'message': 'my message',\n",
       " 'new_message': 'This is a new message'}"
      ]
     },
     "execution_count": 8,
     "metadata": {},
     "output_type": "execute_result"
    }
   ],
   "source": [
    "my_instance.__dict__"
   ]
  },
  {
   "cell_type": "markdown",
   "metadata": {},
   "source": [
    "As you can see I can add new attributes to `my_instance` using both `my_instance.name_of_the_attribute` or `my_instance.__dict__['name_of_the_attribute']` notation.\n",
    "\n",
    "So for normal classes Python uses a __dict__ to store instance's attributes.\n",
    "\n",
    "### Is this bad or good?\n",
    "\n",
    "Well, neither bad or good, [__dicts__ are awesome](https://www.youtube.com/watch?v=npw4s1QTmPg) but not perfect, because there is always a trade-off.\n",
    "\n",
    "With a dict you have a constant lookup time, so the access time is more or less O(1) (it doesn't depend from the size of the dictionary), but because it's a mutable object and it can grow, it's a lot heavier (it has to allocate space for this).\n",
    "\n",
    "Let's look at the **\\__slots__** now."
   ]
  },
  {
   "cell_type": "code",
   "execution_count": 9,
   "metadata": {
    "collapsed": true,
    "scrolled": false
   },
   "outputs": [],
   "source": [
    "class PythonClassWithSlots():\n",
    "    \"\"\"This is a simple Python class\"\"\"\n",
    "    \n",
    "    __slots__ = [\"message\", \"capital_message\"]\n",
    "    \n",
    "    def __init__(self, message):\n",
    "        \"\"\"Init method, nothing special here\"\"\"\n",
    "        self.message = message\n",
    "        self.capital_message = self.make_it_bigger() \n",
    "        \n",
    "    def make_it_bigger(self):\n",
    "        \"\"\"Print the message attribute of the instance\"\"\"\n",
    "        return self.message.upper()\n",
    "    \n",
    "    def scream_message(self):\n",
    "        \"\"\"Print the message attribute of the instance\"\"\"\n",
    "        print(self.capital_message) \n",
    "        \n",
    "my_instance = PythonClassWithSlots(\"my message\")"
   ]
  },
  {
   "cell_type": "code",
   "execution_count": 10,
   "metadata": {
    "scrolled": false
   },
   "outputs": [
    {
     "data": {
      "text/plain": [
       "[]"
      ]
     },
     "execution_count": 10,
     "metadata": {},
     "output_type": "execute_result"
    }
   ],
   "source": [
    "[element for element in dir(my_instance) if element == '__dict__']"
   ]
  },
  {
   "cell_type": "markdown",
   "metadata": {},
   "source": [
    "So we don't have an attribute call `__dict__` inside our instance.\n",
    "\n",
    "But we have a new attribute called **\\__slots__**."
   ]
  },
  {
   "cell_type": "code",
   "execution_count": 11,
   "metadata": {
    "scrolled": false
   },
   "outputs": [
    {
     "data": {
      "text/plain": [
       "['__slots__']"
      ]
     },
     "execution_count": 11,
     "metadata": {},
     "output_type": "execute_result"
    }
   ],
   "source": [
    "[element for element in dir(my_instance) if element == '__slots__']"
   ]
  },
  {
   "cell_type": "markdown",
   "metadata": {},
   "source": [
    "Can we access our attributes as we do with normal classes?\n",
    "\n",
    "Indeed."
   ]
  },
  {
   "cell_type": "code",
   "execution_count": 12,
   "metadata": {
    "scrolled": false
   },
   "outputs": [
    {
     "data": {
      "text/plain": [
       "'my message'"
      ]
     },
     "execution_count": 12,
     "metadata": {},
     "output_type": "execute_result"
    }
   ],
   "source": [
    "my_instance.message"
   ]
  },
  {
   "cell_type": "code",
   "execution_count": 13,
   "metadata": {
    "scrolled": false
   },
   "outputs": [
    {
     "data": {
      "text/plain": [
       "'MY MESSAGE'"
      ]
     },
     "execution_count": 13,
     "metadata": {},
     "output_type": "execute_result"
    }
   ],
   "source": [
    "my_instance.capital_message"
   ]
  },
  {
   "cell_type": "markdown",
   "metadata": {},
   "source": [
    "Can we add new attributes?"
   ]
  },
  {
   "cell_type": "code",
   "execution_count": 14,
   "metadata": {
    "scrolled": false
   },
   "outputs": [
    {
     "ename": "AttributeError",
     "evalue": "'PythonClassWithSlots' object has no attribute 'new_message'",
     "output_type": "error",
     "traceback": [
      "\u001b[0;31m---------------------------------------------------------------------------\u001b[0m",
      "\u001b[0;31mAttributeError\u001b[0m                            Traceback (most recent call last)",
      "\u001b[0;32m<ipython-input-14-4c493294e963>\u001b[0m in \u001b[0;36m<module>\u001b[0;34m()\u001b[0m\n\u001b[0;32m----> 1\u001b[0;31m \u001b[0mmy_instance\u001b[0m\u001b[0;34m.\u001b[0m\u001b[0mnew_message\u001b[0m \u001b[0;34m=\u001b[0m \u001b[0;34m\"This is a new message\"\u001b[0m\u001b[0;34m\u001b[0m\u001b[0m\n\u001b[0m",
      "\u001b[0;31mAttributeError\u001b[0m: 'PythonClassWithSlots' object has no attribute 'new_message'"
     ]
    }
   ],
   "source": [
    "my_instance.new_message = \"This is a new message\""
   ]
  },
  {
   "cell_type": "markdown",
   "metadata": {},
   "source": [
    "__No, we can't__.\n",
    "\n",
    "But we can use the attributes that we defined during the class declaration, inside **\\__slots__**."
   ]
  },
  {
   "cell_type": "code",
   "execution_count": 15,
   "metadata": {
    "collapsed": true,
    "scrolled": false
   },
   "outputs": [],
   "source": [
    "my_instance.message = \"Just putting something new here\""
   ]
  },
  {
   "cell_type": "markdown",
   "metadata": {},
   "source": [
    "### But why would you need to use **slots** when you have a dict?\n",
    "Well the answer is that \\__slots__ are a *lot lighter and slightly faster*."
   ]
  },
  {
   "cell_type": "markdown",
   "metadata": {},
   "source": [
    "Are _slots_ based classes lighter than normal classes?\n",
    "\n",
    "The answer should be yes, **but getting the size of an object is not that easy**."
   ]
  },
  {
   "cell_type": "code",
   "execution_count": 16,
   "metadata": {
    "collapsed": true,
    "scrolled": false
   },
   "outputs": [],
   "source": [
    "my_instance_without_slots = PythonClass(\"my message\")\n",
    "my_instance_with_slots = PythonClassWithSlots(\"my message\")"
   ]
  },
  {
   "cell_type": "code",
   "execution_count": 17,
   "metadata": {
    "scrolled": false
   },
   "outputs": [
    {
     "data": {
      "text/plain": [
       "56"
      ]
     },
     "execution_count": 17,
     "metadata": {},
     "output_type": "execute_result"
    }
   ],
   "source": [
    "getsizeof(my_instance_without_slots)"
   ]
  },
  {
   "cell_type": "code",
   "execution_count": 18,
   "metadata": {
    "scrolled": false
   },
   "outputs": [
    {
     "data": {
      "text/plain": [
       "56"
      ]
     },
     "execution_count": 18,
     "metadata": {},
     "output_type": "execute_result"
    }
   ],
   "source": [
    "getsizeof(my_instance_with_slots)"
   ]
  },
  {
   "cell_type": "markdown",
   "metadata": {},
   "source": [
    "### mmm.....normal classes should be heavier, how is that possible?\n",
    "\n",
    "With [**getsizeof**](https://docs.python.org/3/library/sys.html#sys.getsizeof) we get the size in **bytes** of our object but not of all the others referenced objects.\n",
    "So in our case it should be in this way:"
   ]
  },
  {
   "cell_type": "code",
   "execution_count": 19,
   "metadata": {
    "scrolled": false
   },
   "outputs": [
    {
     "data": {
      "text/plain": [
       "(112, 56)"
      ]
     },
     "execution_count": 19,
     "metadata": {},
     "output_type": "execute_result"
    }
   ],
   "source": [
    "getsizeof(my_instance_without_slots.__dict__), getsizeof(my_instance_without_slots)"
   ]
  },
  {
   "cell_type": "markdown",
   "metadata": {},
   "source": [
    "Now it makes a lot more sense."
   ]
  },
  {
   "cell_type": "code",
   "execution_count": 20,
   "metadata": {
    "scrolled": false
   },
   "outputs": [
    {
     "data": {
      "text/plain": [
       "(240, 56)"
      ]
     },
     "execution_count": 20,
     "metadata": {},
     "output_type": "execute_result"
    }
   ],
   "source": [
    "my_instance_without_slots.new_attribute_1 = \"This is a new attribute\"\n",
    "getsizeof(my_instance_without_slots.__dict__), getsizeof(my_instance_without_slots)"
   ]
  },
  {
   "cell_type": "markdown",
   "metadata": {},
   "source": [
    "As you can see the size of **\\__dict__** changes as long as we add new elements."
   ]
  },
  {
   "cell_type": "code",
   "execution_count": 21,
   "metadata": {
    "scrolled": false
   },
   "outputs": [
    {
     "data": {
      "text/plain": [
       "3"
      ]
     },
     "execution_count": 21,
     "metadata": {},
     "output_type": "execute_result"
    }
   ],
   "source": [
    "len(my_instance_without_slots.__dict__)"
   ]
  },
  {
   "cell_type": "code",
   "execution_count": 22,
   "metadata": {
    "scrolled": false
   },
   "outputs": [
    {
     "data": {
      "text/plain": [
       "240"
      ]
     },
     "execution_count": 22,
     "metadata": {},
     "output_type": "execute_result"
    }
   ],
   "source": [
    "getsizeof({k:v for k,v in enumerate(range(3))})"
   ]
  },
  {
   "cell_type": "markdown",
   "metadata": {},
   "source": [
    "A `normal` dict, with the same amount of elements, has the same size.\n",
    "\n",
    "What if we add 10 new elements?"
   ]
  },
  {
   "cell_type": "code",
   "execution_count": 23,
   "metadata": {
    "scrolled": false
   },
   "outputs": [
    {
     "data": {
      "text/plain": [
       "(648, 56)"
      ]
     },
     "execution_count": 23,
     "metadata": {},
     "output_type": "execute_result"
    }
   ],
   "source": [
    "for i in range(10): my_instance_without_slots.__dict__[i] = str(i) \n",
    "getsizeof(my_instance_without_slots.__dict__), getsizeof(my_instance_without_slots)"
   ]
  },
  {
   "cell_type": "markdown",
   "metadata": {},
   "source": [
    "Let's go further with our dissertation about \\__slots__ and compare them with a normal class in a dummy experiment."
   ]
  },
  {
   "cell_type": "markdown",
   "metadata": {},
   "source": [
    "In this example we import a json object (think about an api call) using both a normal class and a class with \\__slots__"
   ]
  },
  {
   "cell_type": "code",
   "execution_count": 24,
   "metadata": {
    "collapsed": true,
    "scrolled": false
   },
   "outputs": [],
   "source": [
    "import json\n",
    "\n",
    "my_json = '''{\n",
    "    \"username\": \"use@python3.org\",\n",
    "    \"country\": \"Poland\", \"website\":\n",
    "    \"www.chrisbarra.xzy\",\n",
    "    \"date\": \"2017/08/15\",\n",
    "    \"uid\": 1, \"gender\": \"Male\"\n",
    "}'''"
   ]
  },
  {
   "cell_type": "code",
   "execution_count": 25,
   "metadata": {
    "collapsed": true,
    "scrolled": false
   },
   "outputs": [],
   "source": [
    "class MyUserWithSlots():\n",
    "    \"\"\"A kind of user object\"\"\"\n",
    "    \n",
    "    __slots__ = ('username', 'country', 'website', 'date')\n",
    "    \n",
    "    def __init__ (self, username, country, website, date, **kwargs):\n",
    "        self.username = username\n",
    "        self.country = country\n",
    "        self.website = website\n",
    "        self.date = date\n",
    "\n",
    "class MyUserWithoutSlots():\n",
    "    \"\"\"A kind of user object with slots\"\"\"\n",
    "    \n",
    "    def __init__ (self, username, country, website, date, **kwargs):\n",
    "        self.username = username\n",
    "        self.country = country\n",
    "        self.website = website\n",
    "        self.date = date\n",
    "        \n",
    "def get_size(instance):\n",
    "    \"\"\"\n",
    "    If instance has __dict__ \n",
    "    we add the size of __dict__ \n",
    "    to the size of instance.\n",
    "    \n",
    "    In this way we correctly consider both\n",
    "    size of the instance and of __dict__\n",
    "    \"\"\"\n",
    "    size_dict = 0\n",
    "    \n",
    "    try:\n",
    "        size_dict = getsizeof(instance.__dict__)\n",
    "    except AttributeError:\n",
    "        pass\n",
    "    \n",
    "    return size_dict + getsizeof(instance)"
   ]
  },
  {
   "cell_type": "code",
   "execution_count": 26,
   "metadata": {
    "collapsed": true,
    "scrolled": false
   },
   "outputs": [],
   "source": [
    "# we create 1.000.000 instances\n",
    "NUM_INSTANCES = 1000000"
   ]
  },
  {
   "cell_type": "code",
   "execution_count": 27,
   "metadata": {
    "scrolled": false
   },
   "outputs": [
    {
     "name": "stdout",
     "output_type": "stream",
     "text": [
      "The total size is 72.0 MB\n"
     ]
    }
   ],
   "source": [
    "# we create a list with the size of instance inside\n",
    "with_slots = [get_size(MyUserWithSlots(**json.loads(my_json))) for _ in range(NUM_INSTANCES)]\n",
    "\n",
    "# we sum the value inside the list\n",
    "size_with_slots = sum(with_slots)/1000000\n",
    "\n",
    "print(f\"The total size is {size_with_slots} MB\")"
   ]
  },
  {
   "cell_type": "code",
   "execution_count": 28,
   "metadata": {
    "scrolled": false
   },
   "outputs": [
    {
     "name": "stdout",
     "output_type": "stream",
     "text": [
      "The total size is 168.0 MB\n"
     ]
    }
   ],
   "source": [
    "# we create a list with the size of instance inside\n",
    "without_slots = [get_size(MyUserWithoutSlots(**json.loads(my_json))) for _ in range(NUM_INSTANCES)]\n",
    "\n",
    "# we sum the value inside the list\n",
    "size_without_slots = sum(without_slots)/1000000\n",
    "\n",
    "print(f\"The total size is {size_without_slots} MB\")"
   ]
  },
  {
   "cell_type": "code",
   "execution_count": 29,
   "metadata": {
    "scrolled": false
   },
   "outputs": [
    {
     "name": "stdout",
     "output_type": "stream",
     "text": [
      "Memory footprint reduction: -57.14% \n"
     ]
    }
   ],
   "source": [
    "size_reduction = ( size_with_slots - size_without_slots ) / size_without_slots * 100\n",
    "print(f\"Memory footprint reduction: {size_reduction:.2f}% \")"
   ]
  },
  {
   "cell_type": "markdown",
   "metadata": {},
   "source": [
    "## Wow! \n",
    "## ~57% less in memory usage with just one line of code. \n",
    "\n",
    "What about access time?"
   ]
  },
  {
   "cell_type": "code",
   "execution_count": 30,
   "metadata": {
    "collapsed": true,
    "scrolled": false
   },
   "outputs": [],
   "source": [
    "instance_with_slots = MyUserWithSlots(**json.loads(my_json))"
   ]
  },
  {
   "cell_type": "code",
   "execution_count": 31,
   "metadata": {
    "scrolled": false
   },
   "outputs": [
    {
     "name": "stdout",
     "output_type": "stream",
     "text": [
      "58.2 ns ± 2.58 ns per loop (mean ± std. dev. of 7 runs, 10000000 loops each)\n"
     ]
    }
   ],
   "source": [
    "%%timeit\n",
    "z = instance_with_slots.username"
   ]
  },
  {
   "cell_type": "code",
   "execution_count": 32,
   "metadata": {
    "collapsed": true,
    "scrolled": false
   },
   "outputs": [],
   "source": [
    "instance_without_slots = MyUserWithoutSlots(**json.loads(my_json))"
   ]
  },
  {
   "cell_type": "code",
   "execution_count": 33,
   "metadata": {
    "scrolled": false
   },
   "outputs": [
    {
     "name": "stdout",
     "output_type": "stream",
     "text": [
      "72.4 ns ± 2.67 ns per loop (mean ± std. dev. of 7 runs, 10000000 loops each)\n"
     ]
    }
   ],
   "source": [
    "%%timeit\n",
    "z = instance_without_slots.username"
   ]
  },
  {
   "cell_type": "markdown",
   "metadata": {},
   "source": [
    "**\\__slots__** are also slightly faster 👍"
   ]
  },
  {
   "cell_type": "markdown",
   "metadata": {},
   "source": [
    "Want to know more about **\\__slots__**?\n",
    "Check the [official documentation](https://docs.python.org/3/reference/datamodel.html#object.__slots__)\n",
    "\n",
    "## Questions for you\n",
    "\n",
    "* What do you think about **\\__slots__**? \n",
    "* Is there a use case where you have found **\\__slots__** extremely useful?"
   ]
  },
  {
   "cell_type": "markdown",
   "metadata": {},
   "source": [
    "This blog post is a notebook, you can download it from [here](index.ipynb)"
   ]
  },
  {
   "cell_type": "markdown",
   "metadata": {},
   "source": [
    "Credits\n",
    "* the picture is taken from [here](https://www.flickr.com/photos/geezaweezer/4753386960/in/photolist-kjEuwD-7dr4X-iBfQ7R-m9XzqT-k64Weg-ddpRxc-bostpX-4DLjZb-6zQjaR-pei5JY-gUnRct-mjTUpd-bsu9nZ-57FhEA-ejxXnc-qWSWoi-dX1DC1-bxHbpW-gUnSxA-rgaxET-kMGKSF-efXrc-jxuT4a-8mUREA-5aLrey-rUzhmu-gg5z-a8R2ZH-hSj2wt-fSEy3R-qDZLpQ-e6ABXa-ifXezw-6gvQGH-8HkDn-riKaDa-mjS5Y4-dpGQwC-dvEGV2-qedMiS-c5XXWU-kuHcwi-jnqsAc-h2KV8D-bdvsZe-buGSXF-8f3mkA-pRkbvg-pFsE33-3i3vw)"
   ]
  }
 ],
 "metadata": {
  "kernelspec": {
   "display_name": "Python 3",
   "language": "python",
   "name": "python3"
  },
  "language_info": {
   "codemirror_mode": {
    "name": "ipython",
    "version": 3
   },
   "file_extension": ".py",
   "mimetype": "text/x-python",
   "name": "python",
   "nbconvert_exporter": "python",
   "pygments_lexer": "ipython3",
   "version": "3.6.2"
  },
  "nikola": {
   "category": "",
   "date": "2017-09-03 17:00:00 UTC",
   "description": "",
   "img_name": "slots/feather.jpg",
   "img_name_small": "",
   "link": "",
   "slug": "let-me-introduce-slots",
   "sub_title": "The featherweight version of a Python class ",
   "tags": "python, slots, data structure, classes",
   "title": "Let me introduce: __slots__",
   "type": "text"
  }
 },
 "nbformat": 4,
 "nbformat_minor": 2
}
